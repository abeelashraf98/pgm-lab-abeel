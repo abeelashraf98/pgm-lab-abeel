{
  "nbformat": 4,
  "nbformat_minor": 0,
  "metadata": {
    "colab": {
      "name": "Untitled3.ipynb",
      "provenance": [],
      "authorship_tag": "ABX9TyOIz5xQBj0ivxgUnQygBOaa",
      "include_colab_link": true
    },
    "kernelspec": {
      "name": "python3",
      "display_name": "Python 3"
    }
  },
  "cells": [
    {
      "cell_type": "markdown",
      "metadata": {
        "id": "view-in-github",
        "colab_type": "text"
      },
      "source": [
        "<a href=\"https://colab.research.google.com/github/abeelashraf98/pgm-lab-abeel/blob/main/Untitled3.ipynb\" target=\"_parent\"><img src=\"https://colab.research.google.com/assets/colab-badge.svg\" alt=\"Open In Colab\"/></a>"
      ]
    },
    {
      "cell_type": "code",
      "metadata": {
        "colab": {
          "base_uri": "https://localhost:8080/"
        },
        "id": "Ng1Omn7efPoY",
        "outputId": "b5d38cb2-ba39-4825-e8dd-b30bc0a26241"
      },
      "source": [
        "name=\"Abeel ashraf\"\r\n",
        "names=[\"crossroads\",\"python\",\"program\"]\r\n",
        "names=names+[\"hai\",\"go\"]\r\n",
        "print(names[-1])"
      ],
      "execution_count": null,
      "outputs": [
        {
          "output_type": "stream",
          "text": [
            "go\n"
          ],
          "name": "stdout"
        }
      ]
    },
    {
      "cell_type": "code",
      "metadata": {
        "colab": {
          "base_uri": "https://localhost:8080/"
        },
        "id": "wsrUiacRhhzA",
        "outputId": "19ce29d6-eaf9-4997-8699-997bfd60d58d"
      },
      "source": [
        "num=int(input(\"Enter your number\"))\r\n",
        "if num<0:\r\n",
        "  print(\"Enterd number is negat\")\r\n",
        "else:\r\n",
        "  print(\"no is positive\")"
      ],
      "execution_count": null,
      "outputs": [
        {
          "output_type": "stream",
          "text": [
            "Enter your number-21\n",
            "Enterd number is negat\n"
          ],
          "name": "stdout"
        }
      ]
    },
    {
      "cell_type": "code",
      "metadata": {
        "colab": {
          "base_uri": "https://localhost:8080/"
        },
        "id": "rMb5f5RajAKX",
        "outputId": "58c54c6a-50f8-4e9a-fc46-a111af7a60fd"
      },
      "source": [
        "i=1\r\n",
        "while i<10:\r\n",
        "  print(i)\r\n",
        "  i=i+1"
      ],
      "execution_count": null,
      "outputs": [
        {
          "output_type": "stream",
          "text": [
            "1\n",
            "2\n",
            "3\n",
            "4\n",
            "5\n",
            "6\n",
            "7\n",
            "8\n",
            "9\n"
          ],
          "name": "stdout"
        }
      ]
    },
    {
      "cell_type": "code",
      "metadata": {
        "colab": {
          "base_uri": "https://localhost:8080/"
        },
        "id": "DcQi0UhUkX38",
        "outputId": "0cbd2412-3847-4765-e13f-28189c82c0d1"
      },
      "source": [
        "limit=int(input(\"Enter the limit\"))\r\n",
        "i=1\r\n",
        "j=1\r\n",
        "while i<=limit:\r\n",
        "  j=1\r\n",
        "  g=limit\r\n",
        "  while g>i:\r\n",
        "    print(end=\" \")\r\n",
        "    g=g-1\r\n",
        "  while j<=i:\r\n",
        "    print(\"*\",end=\"  \r\n",
        "    \")\r\n",
        "    j=j+1\r\n",
        "  print(\"\\n\")\r\n",
        "  i=i+1"
      ],
      "execution_count": null,
      "outputs": [
        {
          "output_type": "stream",
          "text": [
            "Enter the limit5\n",
            "    *  \n",
            "\n",
            "   *  *  \n",
            "\n",
            "  *  *  *  \n",
            "\n",
            " *  *  *  *  \n",
            "\n",
            "*  *  *  *  *  \n",
            "\n"
          ],
          "name": "stdout"
        }
      ]
    }
  ]
}